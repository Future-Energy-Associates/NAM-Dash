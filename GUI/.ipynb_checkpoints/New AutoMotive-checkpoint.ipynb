{
 "cells": [
  {
   "cell_type": "markdown",
   "metadata": {},
   "source": [
    "# New Automotive GUI\n",
    "\n",
    "Mock-Up\n",
    "\n",
    "<img src=\"../img/mock-up.png\"></img>\n",
    "\n",
    "\n",
    "<br>\n",
    "\n",
    "### Imports"
   ]
  },
  {
   "cell_type": "code",
   "execution_count": 10,
   "metadata": {},
   "outputs": [],
   "source": [
    "# Data Wrangling\n",
    "import pandas as pd\n",
    "import numpy as np\n",
    "import json\n",
    "\n",
    "# Plotting\n",
    "from bqplot import pyplot as plt\n",
    "from bqplot.scales import DateScale, LinearScale\n",
    "from bqplot.marks import Lines\n",
    "from bqplot.axes import Axis\n",
    "from bqplot.figure import Figure\n",
    "\n",
    "# GUI\n",
    "from ipywidgets import Layout, Box, VBox\n",
    "import ipyvuetify as v\n",
    "import ipywidgets as widgets\n",
    "import general_components as gc\n",
    "\n",
    "# Display\n",
    "from IPython.display import JSON, IFrame\n",
    "\n",
    "# Misc\n",
    "import os"
   ]
  },
  {
   "cell_type": "markdown",
   "metadata": {},
   "source": [
    "<br>\n",
    "\n",
    "### Creating Components\n",
    "\n",
    "Before we can construct pages we must create some components to go inside them, here we'll create a simple counter button"
   ]
  },
  {
   "cell_type": "code",
   "execution_count": 2,
   "metadata": {},
   "outputs": [
    {
     "data": {
      "application/vnd.jupyter.widget-view+json": {
       "model_id": "5ff2e7bf7ae14ab7828fdcf0c7447ddc",
       "version_major": 2,
       "version_minor": 0
      },
      "text/plain": [
       "Html(children=[Html(children=[Container(children=[Html(children=['Count: 0'], tag='H3', v_model=''), Btn(child…"
      ]
     },
     "metadata": {},
     "output_type": "display_data"
    }
   ],
   "source": [
    "def construct_counter():\n",
    "    counter = v.Container(children=[\n",
    "        v.Html(tag='H3', children=['Count: 0'], v_model=''),\n",
    "        v.Btn(color='primary', class_='ma-2', children=['Increment'], v_model='')\n",
    "    ])\n",
    "    \n",
    "    return counter\n",
    "\n",
    "counter = construct_counter()\n",
    "\n",
    "gc.construct_two_columns([counter], [counter, counter])"
   ]
  },
  {
   "cell_type": "markdown",
   "metadata": {},
   "source": [
    "<br>\n",
    "\n",
    "### Constructing the Home Page\n",
    "\n",
    "We'll start by creating the 'Top  Line' component, which includes high-level statistics on the growth of EVs"
   ]
  },
  {
   "cell_type": "code",
   "execution_count": 47,
   "metadata": {},
   "outputs": [
    {
     "data": {
      "application/vnd.jupyter.widget-view+json": {
       "model_id": "ab2f84bd04194f2782c3eccb3ddab31f",
       "version_major": 2,
       "version_minor": 0
      },
      "text/plain": [
       "Container(children=[Card(children=[Html(children=['The Top Line'], style_='padding-bottom: 10px; color: #414D5…"
      ]
     },
     "metadata": {},
     "output_type": "display_data"
    }
   ],
   "source": [
    "top_line = v.Card(children=[\n",
    "    v.Html(tag='H3', style_='padding-bottom: 10px; color: #414D55', children=['The Top Line']),\n",
    "    v.Html(tag='p', style_='text-align: center; background-color: #F5F7FF; color: #657077', children=['Electric Vehicle Statistics']),\n",
    "    v.Html(tag='H1', style_='color: #406FF4; font-family: Oxygen', children=['339,300']),\n",
    "    v.Html(tag='p', style_='color: #4C585F', children=['Plug-in cars registered']),\n",
    "    v.Html(tag='H1', style_='color: #406FF4; font-family: Oxygen', children=['34,000']),\n",
    "    v.Html(tag='p', style_='color: #4C585F', children=['UK charge points']),\n",
    "    v.Html(tag='H1', style_='color: #406FF4; font-family: Oxygen', children=['9.3%']),\n",
    "    v.Html(tag='p', style_='color: #4C585F', children=['Electric % of new car sales']),\n",
    "], style_='padding: 10px')\n",
    "\n",
    "v.Container(children=[top_line])"
   ]
  },
  {
   "cell_type": "code",
   "execution_count": null,
   "metadata": {},
   "outputs": [],
   "source": []
  },
  {
   "cell_type": "code",
   "execution_count": 34,
   "metadata": {},
   "outputs": [
    {
     "data": {
      "text/plain": [
       "<AxesSubplot:xlabel='Date'>"
      ]
     },
     "execution_count": 34,
     "metadata": {},
     "output_type": "execute_result"
    },
    {
     "data": {
      "image/png": "[encoded data removed]",
      "text/plain": [
       "<Figure size 432x288 with 1 Axes>"
      ]
     },
     "metadata": {
      "needs_background": "light"
     },
     "output_type": "display_data"
    }
   ],
   "source": [
    "def get_df_ULEV():\n",
    "    df_veh = pd.read_csv('../data/GB_registered_vehicles.csv')\n",
    "\n",
    "    df_veh = df_veh.set_index('Date')\n",
    "    df_veh.index = pd.to_datetime(df_veh.index, format='%b-%y')\n",
    "\n",
    "    s_new_veh = df_veh['Total']\n",
    "    s_new_ulev = df_veh['All ULEVs'].fillna(0)\n",
    "\n",
    "    s_new_non_ulev = s_new_veh - s_new_ulev\n",
    "\n",
    "    df_ULEV = pd.DataFrame({\n",
    "        'pct_ulev': 100*s_new_ulev/s_new_veh,\n",
    "        'pct_non_ulev': 100*s_new_non_ulev/s_new_veh\n",
    "    })\n",
    "    \n",
    "    return df_ULEV\n",
    "\n",
    "df_ULEV = get_df_ULEV()\n",
    "\n",
    "df_ULEV['pct_ulev'].plot()\n",
    "df_ULEV['pct_non_ulev'].plot()"
   ]
  },
  {
   "cell_type": "code",
   "execution_count": null,
   "metadata": {},
   "outputs": [],
   "source": []
  },
  {
   "cell_type": "code",
   "execution_count": 58,
   "metadata": {},
   "outputs": [
    {
     "data": {
      "application/vnd.jupyter.widget-view+json": {
       "model_id": "9bdc29bec6454c1fb1925e26bd1be2cf",
       "version_major": 2,
       "version_minor": 0
      },
      "text/plain": [
       "Figure(animation_duration=500, axes=[Axis(scale=DateScale()), Axis(label='Share of Sales (%)', orientation='ve…"
      ]
     },
     "metadata": {},
     "output_type": "display_data"
    }
   ],
   "source": [
    "def create_ULEV_reg_fig(df_ULEV=None):\n",
    "    if df_ULEV is None:\n",
    "        df_ULEV = get_df_ULEV()\n",
    "        \n",
    "    x_sc = DateScale()\n",
    "    y_sc = LinearScale()\n",
    "\n",
    "    line_chart = Lines(x=df_ULEV.index, y=[df_ULEV['pct_ulev'], df_ULEV['pct_non_ulev']], colors=['dodgerblue', 'lightcoral'], scales={'x': x_sc, 'y': y_sc})\n",
    "\n",
    "    x_ax = Axis(label='', scale=x_sc)\n",
    "    y_ax = Axis(label='Share of Sales (%)', scale=y_sc, orientation='vertical')\n",
    "\n",
    "    fig = Figure(marks=[line_chart], axes=[x_ax, y_ax], padding_y=0)\n",
    "    fig.animation_duration = 500\n",
    "\n",
    "    return fig\n",
    "\n",
    "fig = create_ULEV_reg_fig()\n",
    "\n",
    "fig"
   ]
  },
  {
   "cell_type": "code",
   "execution_count": null,
   "metadata": {},
   "outputs": [],
   "source": []
  },
  {
   "cell_type": "code",
   "execution_count": null,
   "metadata": {},
   "outputs": [],
   "source": []
  },
  {
   "cell_type": "code",
   "execution_count": 52,
   "metadata": {},
   "outputs": [
    {
     "data": {
      "application/vnd.jupyter.widget-view+json": {
       "model_id": "5b9c05e94a4f455cab0bf39d888bcff5",
       "version_major": 2,
       "version_minor": 0
      },
      "text/plain": [
       "Html(children=[Html(children=[Card(children=[Html(children=['The Top Line'], style_='padding-bottom: 10px; col…"
      ]
     },
     "metadata": {},
     "output_type": "display_data"
    }
   ],
   "source": [
    "def construct_two_columns(left_children: list, right_children: list) -> v.Html:\n",
    "    \"\"\"\n",
    "    Uses CSS flex helpers to convert two lists \n",
    "    of components into a double-columned page\n",
    "    \n",
    "    \"\"\"\n",
    "    two_columns = v.Html(tag='div', class_='d-flex flex-row', children=[\n",
    "        v.Html(tag='div', class_='d-flex flex-column', style_='padding: 10px; width: 25%', children=left_children),\n",
    "        v.Html(tag='div', class_='d-flex flex-column', style_='padding: 10px; width: 70%', children=right_children),\n",
    "    ])\n",
    "    \n",
    "    return two_columns\n",
    "\n",
    "fig_card = v.Card(children=[fig]) \n",
    "\n",
    "construct_two_columns([top_line], [fig_card])"
   ]
  },
  {
   "cell_type": "code",
   "execution_count": null,
   "metadata": {},
   "outputs": [],
   "source": []
  },
  {
   "cell_type": "code",
   "execution_count": null,
   "metadata": {},
   "outputs": [],
   "source": []
  },
  {
   "cell_type": "code",
   "execution_count": null,
   "metadata": {},
   "outputs": [],
   "source": [
    "\n"
   ]
  },
  {
   "cell_type": "code",
   "execution_count": null,
   "metadata": {},
   "outputs": [],
   "source": []
  },
  {
   "cell_type": "code",
   "execution_count": null,
   "metadata": {},
   "outputs": [],
   "source": []
  },
  {
   "cell_type": "code",
   "execution_count": 3,
   "metadata": {},
   "outputs": [
    {
     "data": {
      "application/vnd.jupyter.widget-view+json": {
       "model_id": "8fda488b4053434d8e922e390222b41c",
       "version_major": 2,
       "version_minor": 0
      },
      "text/plain": [
       "Container(children=[Html(children=['Count: 0'], tag='H3', v_model=''), Btn(children=['Increment'], class_='ma-…"
      ]
     },
     "metadata": {},
     "output_type": "display_data"
    }
   ],
   "source": [
    "class HomePage(gc.MultiPageHandler):\n",
    "    \"\"\"\n",
    "    GUI template page\n",
    "    \n",
    "    \"\"\"\n",
    "    \n",
    "    def __init__(self, proj_state=None, page_name='Template'):     \n",
    "        # Initialising the parent class\n",
    "        super().__init__(page_name=page_name)\n",
    "        \n",
    "        # Constructing and assigning the components\n",
    "        self.container = construct_counter()\n",
    "        self.set_template_components()\n",
    "        \n",
    "        # Adding actions to event triggers\n",
    "        self.components[self.page_name]['count_btn'].on_event('click', self.run_update_count)\n",
    "        \n",
    "        # Optionally applying the provided components states\n",
    "        if proj_state is not None:\n",
    "            assert 'pages' in proj_state.keys(), 'proj_state must have a pages sub dictionary'\n",
    "            assert self.page_name in proj_state['pages'].keys(), 'The proj_state pages must include a key matching the specified page namey'\n",
    "            self.set_components_states(proj_state['pages'][self.page_name])\n",
    "            \n",
    "        # Setting the proj state\n",
    "        self.update_state()\n",
    "        \n",
    "    \n",
    "    # Components - This creates an attribute which maps to key components\n",
    "    def set_template_components(self):\n",
    "        \"\"\"\n",
    "        Assigns the component_name_to_component attribute\n",
    "        \"\"\"\n",
    "        \n",
    "        assert hasattr(self, 'components'), 'A components dictionary must be set'\n",
    "        \n",
    "        self.components[self.page_name] = {\n",
    "            'count_text' : self.container.children[0],\n",
    "            'count_btn' : self.container.children[1]\n",
    "        }\n",
    "        \n",
    "        \n",
    "    ## Mutations - These are where your functions which change content go\n",
    "    def update_count(self):\n",
    "        \"\"\"\n",
    "        Adds 1 to the current button count\n",
    "        \"\"\"\n",
    "        \n",
    "        count = int(self\n",
    "                    .components\n",
    "                    [self.page_name]\n",
    "                    ['count_text']\n",
    "                    .children[0]\n",
    "                    .split(': ')\n",
    "                    [-1]\n",
    "                   )\n",
    "        \n",
    "        count += 1\n",
    "        \n",
    "        self.components[self.page_name]['count_text'].children = [f'Count: {count}']\n",
    "    \n",
    "    \n",
    "    ## Actions - These provide a widget wrapper for mutation functions\n",
    "    def run_update_count(self, widget, event, data):\n",
    "        self.update_count()\n",
    "    \n",
    "        \n",
    "template = HomePage()\n",
    "\n",
    "template.container"
   ]
  },
  {
   "cell_type": "markdown",
   "metadata": {},
   "source": [
    "<br>\n",
    "\n",
    "### Creating a Multi-Page Application\n",
    "\n",
    "Before we create our template GUI we'll generate the individual pages"
   ]
  },
  {
   "cell_type": "code",
   "execution_count": 9,
   "metadata": {},
   "outputs": [],
   "source": [
    "pages = [\n",
    "    HomePage(page_name='Home'), \n",
    "    gc.IFramePage(src='https://voila.readthedocs.io/en/latest/?badge=latest', page_name='Voila Docs', width='100%')\n",
    "]"
   ]
  },
  {
   "cell_type": "markdown",
   "metadata": {},
   "source": [
    "<br>\n",
    "\n",
    "We'll then save their (blank) component states"
   ]
  },
  {
   "cell_type": "code",
   "execution_count": 10,
   "metadata": {},
   "outputs": [],
   "source": [
    "proj_dir = '../data/projects/template'\n",
    "\n",
    "if not os.path.isdir(proj_dir):\n",
    "    os.mkdir(proj_dir)\n",
    "    \n",
    "gc.set_default_proj_state(pages, proj_dir)"
   ]
  },
  {
   "cell_type": "markdown",
   "metadata": {},
   "source": [
    "<br>\n",
    "\n",
    "We'll quickly read in the proj_state to check it's worked"
   ]
  },
  {
   "cell_type": "code",
   "execution_count": 11,
   "metadata": {},
   "outputs": [
    {
     "data": {
      "application/json": {
       "name": null,
       "pages": {
        "Template": {
         "count_btn": {
          "children": [
           "Increment"
          ],
          "v_model": "",
          "value": null
         },
         "count_text": {
          "children": [
           "Count: 0"
          ],
          "v_model": ""
         }
        },
        "Voila Docs": {}
       }
      },
      "text/plain": [
       "<IPython.core.display.JSON object>"
      ]
     },
     "execution_count": 11,
     "metadata": {
      "application/json": {
       "expanded": false,
       "root": "root"
      }
     },
     "output_type": "execute_result"
    }
   ],
   "source": [
    "with open(f'{proj_dir}/proj_state.json', 'r') as fp:\n",
    "    proj_state = json.load(fp)\n",
    "    \n",
    "JSON(proj_state)"
   ]
  },
  {
   "cell_type": "markdown",
   "metadata": {},
   "source": [
    "<br>\n",
    "\n",
    "We're now ready to construct our GUI. When used in a notebook we'll create a vertically stacked box to hold the navigation and selected page, when launched through voila-vuetify they will be rendered in a more traditional format"
   ]
  },
  {
   "cell_type": "code",
   "execution_count": 12,
   "metadata": {},
   "outputs": [
    {
     "data": {
      "application/vnd.jupyter.widget-view+json": {
       "model_id": "31439e189daf4507a655c5e5a8aa77db",
       "version_major": 2,
       "version_minor": 0
      },
      "text/plain": [
       "VBox(children=(Container(children=[Btn(block=False, children=['Template'], text=True), Btn(block=False, childr…"
      ]
     },
     "metadata": {},
     "output_type": "display_data"
    }
   ],
   "source": [
    "# User inputs \n",
    "first_page = 'Template'\n",
    "\n",
    "# Constructing the GUI and navigation\n",
    "gui, nav = gc.construct_GUI_and_nav(pages, proj_dir, first_page)\n",
    "\n",
    "# Viewing the interface\n",
    "VBox(children=[nav, gui.container])"
   ]
  }
 ],
 "metadata": {
  "kernelspec": {
   "display_name": "NAM-Dash",
   "language": "python",
   "name": "nam-dash"
  },
  "language_info": {
   "codemirror_mode": {
    "name": "ipython",
    "version": 3
   },
   "file_extension": ".py",
   "mimetype": "text/x-python",
   "name": "python",
   "nbconvert_exporter": "python",
   "pygments_lexer": "ipython3",
   "version": "3.8.5"
  }
 },
 "nbformat": 4,
 "nbformat_minor": 4
}
